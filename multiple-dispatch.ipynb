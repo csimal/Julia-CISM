{
 "cells": [
  {
   "cell_type": "markdown",
   "metadata": {},
   "source": [
    "# Multiple Dispatch\n",
    "## The secret sauce behind Julia's performance\n",
    "\n",
    "In this notebook, we will demonstrate one of the core pieces of Julia's design. This property, called *Multiple Dispatch* is the fact that at runtime, the Julia compiler will specialize function calls for each specific combination of input types that is provided.\n",
    "\n",
    "Another benefit of Multiple Dispatch is that it allows for amazing flexibility when writing functions. This has allowed the Julia community to have an impressive amount of code reuse, as it's not uncommon to see one user's functions work on another user's types *out of the box*."
   ]
  },
  {
   "cell_type": "markdown",
   "metadata": {},
   "source": [
    "## A very simple example\n",
    "\n",
    "Let's us start with a toy example to illustrate how Multiple Dispatch plays with Julia's type system. Consider the following function."
   ]
  },
  {
   "cell_type": "code",
   "execution_count": 11,
   "metadata": {},
   "outputs": [
    {
     "data": {
      "text/plain": [
       "f (generic function with 1 method)"
      ]
     },
     "execution_count": 11,
     "metadata": {},
     "output_type": "execute_result"
    }
   ],
   "source": [
    "f(x) = 2*x^2 + x"
   ]
  },
  {
   "cell_type": "markdown",
   "metadata": {},
   "source": [
    "This is a generic function, meaning it will take any type and gladly try to compute it. In this case, this is meant to take in numeric types as arguments, and it will specialize every time we give it a new input type."
   ]
  },
  {
   "cell_type": "code",
   "execution_count": 12,
   "metadata": {},
   "outputs": [
    {
     "data": {
      "text/plain": [
       "3"
      ]
     },
     "execution_count": 12,
     "metadata": {},
     "output_type": "execute_result"
    }
   ],
   "source": [
    "f(1)"
   ]
  },
  {
   "cell_type": "code",
   "execution_count": 13,
   "metadata": {},
   "outputs": [
    {
     "data": {
      "text/plain": [
       "3.0"
      ]
     },
     "execution_count": 13,
     "metadata": {},
     "output_type": "execute_result"
    }
   ],
   "source": [
    "f(1.0)"
   ]
  },
  {
   "cell_type": "markdown",
   "metadata": {},
   "source": [
    "As we can see above, `f` returns an `Int` when provided with and `Int`, and a `Float64`, when we provide it with that type.\n",
    "\n",
    "We can actually look under the hood using the macro `@code_llvm` to see what happens during a given call:"
   ]
  },
  {
   "cell_type": "code",
   "execution_count": 14,
   "metadata": {},
   "outputs": [
    {
     "name": "stdout",
     "output_type": "stream",
     "text": [
      "\u001b[90m;  @ In[11]:1 within `f`\u001b[39m\n",
      "\u001b[95mdefine\u001b[39m \u001b[36mdouble\u001b[39m \u001b[93m@julia_f_1594\u001b[39m\u001b[33m(\u001b[39m\u001b[36mdouble\u001b[39m \u001b[0m%0\u001b[33m)\u001b[39m \u001b[0m#0 \u001b[33m{\u001b[39m\n",
      "\u001b[91mtop:\u001b[39m\n",
      "\u001b[90m; ┌ @ intfuncs.jl:312 within `literal_pow`\u001b[39m\n",
      "\u001b[90m; │┌ @ float.jl:405 within `*`\u001b[39m\n",
      "    \u001b[0m%1 \u001b[0m= \u001b[96m\u001b[1mfmul\u001b[22m\u001b[39m \u001b[36mdouble\u001b[39m \u001b[0m%0\u001b[0m, \u001b[0m%0\n",
      "\u001b[90m; └└\u001b[39m\n",
      "\u001b[90m; ┌ @ promotion.jl:380 within `*` @ float.jl:405\u001b[39m\n",
      "   \u001b[0m%2 \u001b[0m= \u001b[96m\u001b[1mfmul\u001b[22m\u001b[39m \u001b[36mdouble\u001b[39m \u001b[0m%1\u001b[0m, \u001b[33m2.000000e+00\u001b[39m\n",
      "\u001b[90m; └\u001b[39m\n",
      "\u001b[90m; ┌ @ float.jl:399 within `+`\u001b[39m\n",
      "   \u001b[0m%3 \u001b[0m= \u001b[96m\u001b[1mfadd\u001b[22m\u001b[39m \u001b[36mdouble\u001b[39m \u001b[0m%2\u001b[0m, \u001b[0m%0\n",
      "\u001b[90m; └\u001b[39m\n",
      "  \u001b[96m\u001b[1mret\u001b[22m\u001b[39m \u001b[36mdouble\u001b[39m \u001b[0m%3\n",
      "\u001b[33m}\u001b[39m\n"
     ]
    }
   ],
   "source": [
    "@code_llvm f(1.0)"
   ]
  },
  {
   "cell_type": "markdown",
   "metadata": {},
   "source": [
    "However, let us now consider the following function:"
   ]
  },
  {
   "cell_type": "code",
   "execution_count": 6,
   "metadata": {},
   "outputs": [
    {
     "data": {
      "text/plain": [
       "g (generic function with 2 methods)"
      ]
     },
     "execution_count": 6,
     "metadata": {},
     "output_type": "execute_result"
    }
   ],
   "source": [
    "g(x) = 2*x^2 + x/2"
   ]
  },
  {
   "cell_type": "markdown",
   "metadata": {},
   "source": [
    "When we call `g` on an integer, something wierd happens"
   ]
  },
  {
   "cell_type": "code",
   "execution_count": 7,
   "metadata": {},
   "outputs": [
    {
     "data": {
      "text/plain": [
       "2.5"
      ]
     },
     "execution_count": 7,
     "metadata": {},
     "output_type": "execute_result"
    }
   ],
   "source": [
    "g(1.0)"
   ]
  },
  {
   "cell_type": "code",
   "execution_count": 8,
   "metadata": {},
   "outputs": [
    {
     "data": {
      "text/plain": [
       "2"
      ]
     },
     "execution_count": 8,
     "metadata": {},
     "output_type": "execute_result"
    }
   ],
   "source": [
    "g(1)\n"
   ]
  },
  {
   "cell_type": "markdown",
   "metadata": {},
   "source": [
    "What happened? Well the division operator `/` in Julia computes the *exact division*. For integer division we need to use the `div` function (or equivalently the `÷` (`\\div<TAB>`)). Let us correct our problem by defining a new method for `g`."
   ]
  },
  {
   "cell_type": "code",
   "execution_count": 1,
   "metadata": {},
   "outputs": [
    {
     "data": {
      "text/plain": [
       "g (generic function with 1 method)"
      ]
     },
     "execution_count": 1,
     "metadata": {},
     "output_type": "execute_result"
    }
   ],
   "source": [
    "g(n::Int) = 2*n^2 + div(n,2)"
   ]
  },
  {
   "cell_type": "markdown",
   "metadata": {},
   "source": [
    "Now if we evaluate `g` on an `Int`, it returns an `Int` as we wanted"
   ]
  },
  {
   "cell_type": "code",
   "execution_count": 9,
   "metadata": {},
   "outputs": [
    {
     "data": {
      "text/plain": [
       "2"
      ]
     },
     "execution_count": 9,
     "metadata": {},
     "output_type": "execute_result"
    }
   ],
   "source": [
    "g(1)"
   ]
  },
  {
   "cell_type": "markdown",
   "metadata": {},
   "source": [
    "Problem solved? Not quite, our new method only applies to `Int` which is actually `Int64` (64 bit signed integers). But there are other integer types:"
   ]
  },
  {
   "cell_type": "code",
   "execution_count": 10,
   "metadata": {},
   "outputs": [
    {
     "data": {
      "text/plain": [
       "2.5"
      ]
     },
     "execution_count": 10,
     "metadata": {},
     "output_type": "execute_result"
    }
   ],
   "source": [
    "g(Int32(1))"
   ]
  },
  {
   "cell_type": "markdown",
   "metadata": {},
   "source": [
    "To fix this, we could define a new method for `Int32`, but we would also have to do that for every other integer type. And then if someone else uses our code and brings in some new integer types they'll have to define new methods for those as well! How tedious!\n",
    "\n",
    "Luckily, we don't actually need to do that. We just need to define a single method for `Integer`, which is the abstract type for all integers."
   ]
  },
  {
   "cell_type": "code",
   "execution_count": 11,
   "metadata": {},
   "outputs": [
    {
     "data": {
      "text/plain": [
       "g (generic function with 3 methods)"
      ]
     },
     "execution_count": 11,
     "metadata": {},
     "output_type": "execute_result"
    }
   ],
   "source": [
    "g(n::Integer) = 2*n^2 + div(n,2)"
   ]
  },
  {
   "cell_type": "code",
   "execution_count": 12,
   "metadata": {},
   "outputs": [
    {
     "data": {
      "text/plain": [
       "2"
      ]
     },
     "execution_count": 12,
     "metadata": {},
     "output_type": "execute_result"
    }
   ],
   "source": [
    "g(Int32(1))"
   ]
  },
  {
   "cell_type": "markdown",
   "metadata": {},
   "source": [
    "## A more advanced example\n",
    "\n",
    "In this next example, we'll showcase some of the more interesting things that we can do with multiple dispatch. We'll implement a basic version of *Forward mode Automatic Differentiation* in about ten lines of code.\n",
    "\n",
    "This example is largely adapted from https://www.youtube.com/watch?v=vAp6nUMrKYg\n",
    "\n",
    "Let's start by defining a new type called `Dual`. It represents pairs of numbers of the form \n",
    "$$ x + \\epsilon y $$\n",
    "where $\\epsilon$ is a bit like the imaginary unit $i$, except it satisfies $\\epsilon^2 = 0$.\n",
    "\n",
    "Another way to interpret them is that $x$ represents the value of some function evaluated at some point, while $y$ represents the value of the *derivative* of that function at the same point."
   ]
  },
  {
   "cell_type": "code",
   "execution_count": 1,
   "metadata": {},
   "outputs": [],
   "source": [
    "struct Dual <: Number\n",
    "    x::Float64\n",
    "    y::Float64\n",
    "end"
   ]
  },
  {
   "cell_type": "markdown",
   "metadata": {},
   "source": [
    "Since `Dual` is a subtype of `Number`, we'll need to define arithmetic operations for it, so that it can play with other Number types."
   ]
  },
  {
   "cell_type": "code",
   "execution_count": 2,
   "metadata": {},
   "outputs": [
    {
     "data": {
      "text/plain": [
       "show (generic function with 304 methods)"
      ]
     },
     "execution_count": 2,
     "metadata": {},
     "output_type": "execute_result"
    }
   ],
   "source": [
    "import Base: +, -, *, /, convert, promote_rule, show\n",
    "\n",
    "# The following four lines define arithmetic operations on Duals. Notice how the rules for * and / are the same as derivative rules for multiplication and division\n",
    "+(a::Dual, b::Dual) = Dual(a.x + b.x, a.y + b.y)\n",
    "-(a::Dual, b::Dual) = Dual(a.x - b.x, a.y - b.y)\n",
    "*(a::Dual, b::Dual) = Dual(a.x*b.x, a.y*b.x + a.x*b.y)\n",
    "/(a::Dual, b::Dual) = Dual(a.x/b.x, (a.y*b.x - a.x*b.y)/(b.x^2))\n",
    "\n",
    "# These three lines tell how to convert between real numbers and Dual, and how to pretty print Dual numbers.\n",
    "convert(::Type{Dual}, x::Real) = Dual(x, zero(x))\n",
    "promote_rule(::Type{Dual}, ::Type{<:Number}) = Dual\n",
    "show(io::IO, d::Dual) = print(io, d.x, \" + \", d.y,\" ϵ\")"
   ]
  },
  {
   "cell_type": "markdown",
   "metadata": {},
   "source": [
    "We can try out our new type on a simple function to check that it works."
   ]
  },
  {
   "cell_type": "code",
   "execution_count": 15,
   "metadata": {},
   "outputs": [
    {
     "data": {
      "text/plain": [
       "(3, 3.0, 3.0 + 5.0 ϵ)"
      ]
     },
     "execution_count": 15,
     "metadata": {},
     "output_type": "execute_result"
    }
   ],
   "source": [
    "f(1), f(1.0), f(Dual(1,1))"
   ]
  },
  {
   "cell_type": "markdown",
   "metadata": {},
   "source": [
    "So far, so good. Let's try a more complicated function."
   ]
  },
  {
   "cell_type": "code",
   "execution_count": 7,
   "metadata": {},
   "outputs": [
    {
     "data": {
      "text/plain": [
       "babylonian"
      ]
     },
     "execution_count": 7,
     "metadata": {},
     "output_type": "execute_result"
    }
   ],
   "source": [
    "\"\"\"\n",
    "Compute the square root of x using the Babylonian algorithm\n",
    "\"\"\"\n",
    "function babylonian(x; nmax = 10)\n",
    "    t = (1+x)/2\n",
    "    for i in 2:nmax\n",
    "        t = (t + x/t)/2\n",
    "    end\n",
    "    return t\n",
    "end"
   ]
  },
  {
   "cell_type": "code",
   "execution_count": 8,
   "metadata": {},
   "outputs": [
    {
     "data": {
      "text/plain": [
       "(1.7724538509055159, 1.7724538509055159, 1.414213562373095, 1.4142135623730951)"
      ]
     },
     "execution_count": 8,
     "metadata": {},
     "output_type": "execute_result"
    }
   ],
   "source": [
    "babylonian(π), √π, babylonian(2), √2"
   ]
  },
  {
   "cell_type": "code",
   "execution_count": 9,
   "metadata": {},
   "outputs": [
    {
     "data": {
      "text/plain": [
       "1.414213562373095 + 0.35355339059327373 ϵ"
      ]
     },
     "execution_count": 9,
     "metadata": {},
     "output_type": "execute_result"
    }
   ],
   "source": [
    "x = Dual(2, 1)\n",
    "babylonian(x)"
   ]
  },
  {
   "cell_type": "markdown",
   "metadata": {},
   "source": [
    "It just worked!"
   ]
  },
  {
   "cell_type": "code",
   "execution_count": 10,
   "metadata": {},
   "outputs": [
    {
     "data": {
      "text/plain": [
       "0.35355339059327373"
      ]
     },
     "execution_count": 10,
     "metadata": {},
     "output_type": "execute_result"
    }
   ],
   "source": [
    "0.5/√2"
   ]
  },
  {
   "cell_type": "markdown",
   "metadata": {},
   "source": [
    "Let that sink in. In just about ten lines of code, we just defined a barebones implementation of automatic differentiation that will work with almost all numerical Julia functions (provided we define a couple more primitives).\n",
    "\n",
    "This is impossible to do in pure Python while keeping it fast, and to do that in C/C++/Fortran, we'd either have to rewrite the entire math library to support our types, or write a special compiler."
   ]
  },
  {
   "cell_type": "markdown",
   "metadata": {},
   "source": []
  }
 ],
 "metadata": {
  "kernelspec": {
   "display_name": "Julia 1.7.0",
   "language": "julia",
   "name": "julia-1.7"
  },
  "language_info": {
   "file_extension": ".jl",
   "mimetype": "application/julia",
   "name": "julia",
   "version": "1.7.0"
  },
  "orig_nbformat": 4
 },
 "nbformat": 4,
 "nbformat_minor": 2
}
