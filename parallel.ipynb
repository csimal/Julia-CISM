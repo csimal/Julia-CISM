{
 "cells": [
  {
   "cell_type": "markdown",
   "metadata": {},
   "source": [
    "# Parallel Computing made even simpler\n",
    "We've already seen some examples of multithreaded and distributed programming, and it was already pretty simple. Just slap a macro in front of your `for` loop.\n",
    "\n",
    "But the fun does not stop there. There are a couple of really nice packages that allow to define computations like folds (also known as Map-Reduce) and then to choose whether to run them single threaded, multithreaded or distributed (and even on the GPU).\n",
    "\n",
    "You may have to run the next cell to install a couple packages, otherwise skip it."
   ]
  },
  {
   "cell_type": "code",
   "execution_count": null,
   "metadata": {},
   "outputs": [],
   "source": [
    "using Pkg\n",
    "Pkg.add(\"Folds\")\n",
    "Pkg.add(\"Transducers\")"
   ]
  },
  {
   "cell_type": "code",
   "execution_count": 2,
   "metadata": {},
   "outputs": [],
   "source": [
    "using Folds\n",
    "using Transducers\n",
    "using Distributed"
   ]
  },
  {
   "cell_type": "markdown",
   "metadata": {},
   "source": [
    "The `Distributed` package allows us to get some processes to run our code in parallel using the `addprocs` function. Let's get four of them."
   ]
  },
  {
   "cell_type": "code",
   "execution_count": 3,
   "metadata": {},
   "outputs": [
    {
     "data": {
      "text/plain": [
       "4-element Vector{Int64}:\n",
       " 2\n",
       " 3\n",
       " 4\n",
       " 5"
      ]
     },
     "execution_count": 3,
     "metadata": {},
     "output_type": "execute_result"
    }
   ],
   "source": [
    "addprocs(4)"
   ]
  },
  {
   "cell_type": "markdown",
   "metadata": {},
   "source": [
    "As a simple example, we'll try to compute the number of palindromic primes under $10^8$.\n",
    "\n",
    "Let's start by defining functions that return whether a given integer is a prime, or palindromic. Notice the `@everywhere` macro, which makes these functions known to all our processes."
   ]
  },
  {
   "cell_type": "code",
   "execution_count": 4,
   "metadata": {},
   "outputs": [],
   "source": [
    "@everywhere function isprime(n)\n",
    "    k = 2\n",
    "    while k^2 <= n\n",
    "        if mod(n,k) == 0\n",
    "            return false\n",
    "        end\n",
    "        k += 1\n",
    "    end\n",
    "    return true\n",
    "end"
   ]
  },
  {
   "cell_type": "code",
   "execution_count": 5,
   "metadata": {},
   "outputs": [],
   "source": [
    "@everywhere function ispalindromic(n)\n",
    "    let xs = digits(n)\n",
    "        xs == reverse(xs)\n",
    "    end\n",
    "end"
   ]
  },
  {
   "cell_type": "code",
   "execution_count": 23,
   "metadata": {},
   "outputs": [
    {
     "data": {
      "text/plain": [
       "100000000"
      ]
     },
     "execution_count": 23,
     "metadata": {},
     "output_type": "execute_result"
    }
   ],
   "source": [
    "N = 10^8"
   ]
  },
  {
   "cell_type": "markdown",
   "metadata": {},
   "source": [
    "The next two lines show different ways of computing what we want. The first one uses `Folds.sum` with the functionalities from `Transducers`, and must be read from left to right (the `|>` is the pipe operator).\n",
    "\n",
    "By default, `Folds` runs in multithreaded mode (which is pretty slow in this case because the notebook only has a single thread)."
   ]
  },
  {
   "cell_type": "code",
   "execution_count": 24,
   "metadata": {},
   "outputs": [
    {
     "data": {
      "text/plain": [
       "782"
      ]
     },
     "execution_count": 24,
     "metadata": {},
     "output_type": "execute_result"
    }
   ],
   "source": [
    "1:N |> Filter(isprime) |> Filter(ispalindromic) |> Map(n -> 1) |> Folds.sum"
   ]
  },
  {
   "cell_type": "markdown",
   "metadata": {},
   "source": [
    "This next line uses the `foldxd` function from transducers, which does everything distributed."
   ]
  },
  {
   "cell_type": "code",
   "execution_count": 25,
   "metadata": {},
   "outputs": [
    {
     "data": {
      "text/plain": [
       "782"
      ]
     },
     "execution_count": 25,
     "metadata": {},
     "output_type": "execute_result"
    }
   ],
   "source": [
    "foldxd(+, (1 for n in 1:N if isprime(n) && ispalindromic(n)))"
   ]
  },
  {
   "cell_type": "markdown",
   "metadata": {},
   "source": [
    "For more complicated Map-Reduce operations, the `FLoops` package allows for specifying a `for` loop with (almost) arbitrary operations, and it is compatible with the various execution modes from `Folds`."
   ]
  },
  {
   "cell_type": "markdown",
   "metadata": {},
   "source": []
  }
 ],
 "metadata": {
  "kernelspec": {
   "display_name": "Julia 1.7.0",
   "language": "julia",
   "name": "julia-1.7"
  },
  "language_info": {
   "file_extension": ".jl",
   "mimetype": "application/julia",
   "name": "julia",
   "version": "1.7.0"
  },
  "orig_nbformat": 4
 },
 "nbformat": 4,
 "nbformat_minor": 2
}
